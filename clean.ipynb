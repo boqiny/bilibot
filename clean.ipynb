{
 "cells": [
  {
   "cell_type": "code",
   "execution_count": 8,
   "metadata": {},
   "outputs": [],
   "source": [
    "import json\n",
    "import csv\n",
    "import re\n",
    "\n",
    "def process_text(text):\n",
    "    # Split the text into source and target\n",
    "    parts = text.split('<|im_start|>assistant\\n')\n",
    "    if len(parts) != 2:\n",
    "        return None, None\n",
    "    \n",
    "    source = parts[0].split('<|im_start|>user\\n')[-1].strip()\n",
    "    target = parts[1].split('<|im_end|>')[0].strip()\n",
    "    source = re.sub(r'<\\|.*?\\|>', '', source)\n",
    "    target = re.sub(r'<\\|.*?\\|>', '', target)\n",
    "    source = re.sub(r'\\\"', '', source)\n",
    "    return source, target\n",
    "\n",
    "\n",
    "input_file = 'valid.jsonl'\n",
    "output_file = 'val.csv'\n",
    "\n",
    "with open(input_file, 'r', encoding='utf-8') as infile, \\\n",
    "        open(output_file, 'w', newline='', encoding='utf-8') as outfile:\n",
    "    \n",
    "    csv_writer = csv.writer(outfile)\n",
    "    csv_writer.writerow(['source', 'target'])  # Write header\n",
    "    \n",
    "    for line in infile:\n",
    "        data = json.loads(line)\n",
    "        source, target = process_text(data['text'])\n",
    "        if source and target:\n",
    "            csv_writer.writerow([source, target])\n"
   ]
  }
 ],
 "metadata": {
  "kernelspec": {
   "display_name": "base",
   "language": "python",
   "name": "python3"
  },
  "language_info": {
   "codemirror_mode": {
    "name": "ipython",
    "version": 3
   },
   "file_extension": ".py",
   "mimetype": "text/x-python",
   "name": "python",
   "nbconvert_exporter": "python",
   "pygments_lexer": "ipython3",
   "version": "3.11.4"
  }
 },
 "nbformat": 4,
 "nbformat_minor": 2
}
